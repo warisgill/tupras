{
 "cells": [
  {
   "cell_type": "markdown",
   "metadata": {},
   "source": [
    "Ngram Model"
   ]
  },
  {
   "cell_type": "code",
   "execution_count": null,
   "metadata": {},
   "outputs": [],
   "source": [
    "# code courtesy of https://nlpforhackers.io/language-models/\n",
    "from nltk.corpus import reuters\n",
    "# from nltk import bigrams, trigrams\n",
    "from nltk import ngrams\n",
    "from collections import Counter, defaultdict\n",
    "\n",
    "import itertools \n"
   ]
  },
  {
   "cell_type": "code",
   "execution_count": null,
   "metadata": {},
   "outputs": [],
   "source": [
    "def getAlarmsSeqs(fname):\n",
    "    lines = None\n",
    "    with open(fname) as f:\n",
    "        lines = f.readlines()\n",
    "\n",
    "    temp_alarms_seqs = []\n",
    "    for i,line in enumerate(lines):\n",
    "        seq = line.split()\n",
    "        temp_alarms_seqs.append(seq)\n",
    "    \n",
    "    temp_alarms_seqs =  list(itertools.chain(*temp_alarms_seqs)) \n",
    "\n",
    "\n",
    "    return temp_alarms_seqs\n",
    "      "
   ]
  },
  {
   "cell_type": "code",
   "execution_count": null,
   "metadata": {},
   "outputs": [],
   "source": [
    "fname = \"../.data/train.tokens\"\n",
    "train_alarms_seqs = getAlarmsSeqs(fname)\n",
    "\n",
    "# train_alarms_seqs[0:50]\n",
    "\n",
    "# Create a placeholder for model\n",
    "model = defaultdict(lambda: defaultdict(lambda: 0))\n",
    "n = 12\n",
    "for tup  in ngrams(train_alarms_seqs, n=n, pad_right=True, pad_left=True):\n",
    "    # print(type(tup[0:n-1]),len(tup[0:n-1]))\n",
    "    # print(a1,a2,a3,a4,a5)\n",
    "    model[tup[0:n-1]][tup[-1]] += 1\n",
    " \n",
    "# Let's transform the counts to probabilities\n",
    "for key in model:\n",
    "    # print(key)\n",
    "    total_count = float(sum(model[key].values()))\n",
    "    for w3 in model[key]:\n",
    "        model[key][w3] /= total_count"
   ]
  },
  {
   "cell_type": "markdown",
   "metadata": {},
   "source": []
  },
  {
   "cell_type": "code",
   "execution_count": null,
   "metadata": {},
   "outputs": [],
   "source": [
    "# d = dict(model[ '47TI2086',\n",
    "#  '47PDI003',\n",
    "#  '47TI3418',\n",
    "#  '47LI003',\n",
    "#  '47LI003'])\n",
    "\n",
    "# print(list(d.keys())[0],list(d.values())[0]) \n",
    "\n",
    "# print(d)"
   ]
  },
  {
   "cell_type": "code",
   "execution_count": null,
   "metadata": {},
   "outputs": [],
   "source": [
    "# calculate the accuracy\n",
    "fname = \"../.data/val.tokens\"\n",
    "val_alarms_seqs = getAlarmsSeqs(fname)\n",
    "alarm2acc = {}\n",
    "\n",
    "for a in train_alarms_seqs:\n",
    "    alarm2acc[a] = {\"true\":0, \"false\":0, \"acc\":0}\n",
    "\n",
    "for a in val_alarms_seqs:\n",
    "    alarm2acc[a] = {\"true\":0, \"false\":0, \"acc\":0}\n",
    " \n",
    "\n",
    "\n",
    "for i in range(len(val_alarms_seqs)-n):\n",
    "    seq = train_alarms_seqs[i:i+n]\n",
    "    # print(\"seq =>\",seq)\n",
    "    \n",
    "    in_seq = seq[0:n-1]\n",
    "    y_true = seq[-1]\n",
    "    # print(in_seq,y_true)\n",
    "    # print(seq_in,y_true)\n",
    "    \n",
    "    d = dict(model[tuple(in_seq)])\n",
    "    y_pred = list(d.keys())[0] \n",
    "    if y_pred == y_true:\n",
    "       alarm2acc[y_true]['true'] += 1\n",
    "    else:\n",
    "       alarm2acc[y_true]['false'] += 1  \n",
    "        # print(list(d.keys())[0],list(d.values())[0]) \n",
    "\n",
    "\n",
    "for a in alarm2acc.keys():\n",
    "    if alarm2acc[a][\"true\"]+alarm2acc[a][\"false\"]>0: \n",
    "        alarm2acc[a][\"acc\"] =alarm2acc[a][\"true\"] /(alarm2acc[a][\"true\"]+alarm2acc[a][\"false\"]) \n",
    "\n",
    "\n",
    "\n",
    "\n",
    "more_than_50_percent_acc = [(a,alarm2acc[a][\"acc\"]) for a in alarm2acc.keys() if alarm2acc[a][\"acc\"]>=0.5]\n",
    "\n",
    "\n",
    "\n",
    "\n",
    "print(f\"Number of Alarm Sources with more than 50% Accuracy = {len(more_than_50_percent_acc)}\")\n",
    "# alarm2acc\n"
   ]
  },
  {
   "cell_type": "code",
   "execution_count": 7,
   "metadata": {},
   "outputs": [
    {
     "name": "stdout",
     "output_type": "stream",
     "text": [
      "Number of Alarm Sources with more than 0.5% Accuracy = 687\n",
      "Number of Alarm Sources with more than 0.6% Accuracy = 684\n",
      "Number of Alarm Sources with more than 0.7% Accuracy = 677\n",
      "Number of Alarm Sources with more than 0.8% Accuracy = 653\n",
      "Number of Alarm Sources with more than 0.9% Accuracy = 589\n"
     ]
    }
   ],
   "source": [
    "\n",
    "for x in [0.5,0.6,0.7,0.8,0.9]:\n",
    "    more_than_x_percent_acc = [(a,alarm2acc[a][\"acc\"]) for a in alarm2acc.keys() if alarm2acc[a][\"acc\"]>=x]\n",
    "\n",
    "    print(f\"Number of Alarm Sources with more than {x}% Accuracy = {len(more_than_x_percent_acc)}\")\n",
    "\n",
    "\n",
    "\n"
   ]
  },
  {
   "cell_type": "code",
   "execution_count": null,
   "metadata": {},
   "outputs": [],
   "source": []
  }
 ],
 "metadata": {
  "kernelspec": {
   "display_name": "Python 3.8.5 64-bit ('dl': conda)",
   "name": "python385jvsc74a57bd08076afad8c2f739e22f417bad77704dbad7b0389c4d6903b1ae4a1b7479f7ed3"
  },
  "language_info": {
   "codemirror_mode": {
    "name": "ipython",
    "version": 3
   },
   "file_extension": ".py",
   "mimetype": "text/x-python",
   "name": "python",
   "nbconvert_exporter": "python",
   "pygments_lexer": "ipython3",
   "version": "3.8.5"
  },
  "orig_nbformat": 2
 },
 "nbformat": 4,
 "nbformat_minor": 2
}